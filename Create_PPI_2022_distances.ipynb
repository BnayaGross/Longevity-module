{
 "cells": [
  {
   "cell_type": "code",
   "execution_count": 1,
   "id": "fc7cc882",
   "metadata": {},
   "outputs": [],
   "source": [
    "import numpy as np\n",
    "from matplotlib import cm\n",
    "import matplotlib.pyplot as plt\n",
    "import glob\n",
    "from scipy.optimize import fsolve\n",
    "from scipy.optimize import curve_fit\n",
    "from scipy.interpolate import interp1d\n",
    "from scipy.signal import savgol_filter\n",
    "from scipy.interpolate import splev\n",
    "from scipy.interpolate import splrep\n",
    "import colorsys\n",
    "import networkx as nx\n",
    "import random\n",
    "import math\n",
    "import matplotlib.style\n",
    "import matplotlib as mpl\n",
    "import pandas as pd\n",
    "import graph_tool.all as gt\n",
    "import seaborn as sns\n",
    "import multiprocessing as mp\n",
    "import json\n",
    "import sys\n",
    "from scipy.stats import hypergeom\n",
    "from tqdm import tqdm\n",
    "import networkx.algorithms.community as nx_comm\n",
    "import NetworkMetrics as metrics\n",
    "from scipy import stats\n",
    "import csv\n",
    "from collections import defaultdict\n",
    "from matplotlib.colors import ListedColormap, Normalize\n",
    "import seaborn as sns\n",
    "import copy\n",
    "import random\n",
    "from cmapPy.pandasGEXpress import parse\n",
    "from scipy.stats import pearsonr\n",
    "import matplotlib.style\n",
    "import matplotlib as mpl\n",
    "from scipy import stats\n",
    "import bisect\n",
    "import ast\n",
    "\n",
    "\n",
    "mpl.style.use('default')\n",
    "mpl.style.use('classic')\n",
    "\n"
   ]
  },
  {
   "cell_type": "code",
   "execution_count": 2,
   "id": "50b2a116",
   "metadata": {},
   "outputs": [
    {
     "name": "stdout",
     "output_type": "stream",
     "text": [
      "interactome2022 - ppi\n"
     ]
    }
   ],
   "source": [
    "\n",
    "path_interactome = \"./data/PPI_2022.csv\"\n",
    "G = nx.from_pandas_edgelist(pd.read_csv(path_interactome), 'HGNC_Symbol.1', 'HGNC_Symbol.2')\n",
    "print(\"interactome2022 - ppi\")\n",
    "\n",
    "self_loops = [(u, v) for u, v in G.edges() if u == v]\n",
    "G.remove_edges_from(self_loops)\n",
    "\n",
    "connected_components = list(nx.connected_components(G))\n",
    "lcc = max(len(component) for component in connected_components)\n",
    "\n",
    "largest_cc = max(nx.connected_components(G), key=len)\n",
    "G_sub = G.subgraph(largest_cc)\n"
   ]
  },
  {
   "cell_type": "code",
   "execution_count": 5,
   "id": "0562b97d",
   "metadata": {},
   "outputs": [],
   "source": [
    "distances = metrics.all_pair_distances(G_sub)"
   ]
  },
  {
   "cell_type": "code",
   "execution_count": 9,
   "id": "5787515b-e2d0-4182-826d-5d61d8c2e0d4",
   "metadata": {},
   "outputs": [],
   "source": [
    "metrics.save_distances(distances, \"./data/PPI_2022_distances.pkl\")"
   ]
  },
  {
   "cell_type": "code",
   "execution_count": null,
   "id": "fe08012a-b707-4553-85f3-a4881abad862",
   "metadata": {},
   "outputs": [],
   "source": []
  }
 ],
 "metadata": {
  "kernelspec": {
   "display_name": "Python [conda env:base] *",
   "language": "python",
   "name": "conda-base-py"
  },
  "language_info": {
   "codemirror_mode": {
    "name": "ipython",
    "version": 3
   },
   "file_extension": ".py",
   "mimetype": "text/x-python",
   "name": "python",
   "nbconvert_exporter": "python",
   "pygments_lexer": "ipython3",
   "version": "3.12.2"
  }
 },
 "nbformat": 4,
 "nbformat_minor": 5
}
